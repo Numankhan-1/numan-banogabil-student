{
 "cells": [
  {
   "cell_type": "code",
   "execution_count": 1,
   "id": "642cda2c-053c-45f8-b38c-292028103105",
   "metadata": {},
   "outputs": [
    {
     "name": "stdin",
     "output_type": "stream",
     "text": [
      "enter your name: zuban\n",
      "give chemistry numbers: 98\n",
      "give islamiat numbers: 78\n",
      "give urdu numbers: 43\n"
     ]
    },
    {
     "name": "stdout",
     "output_type": "stream",
     "text": [
      "\t your total numbers is 219\n",
      " your percent is 73.0 your grade is A1\n"
     ]
    }
   ],
   "source": [
    "       #marksheet       # sir total marks is 300\n",
    "user = input(\"enter your name:\")\n",
    "\n",
    "chemistry = int(input(\"give chemistry numbers:\" ))\n",
    "islamiat = int(input(\"give islamiat numbers:\" ))\n",
    "urdu = int(input(\"give urdu numbers:\" ))\n",
    "\n",
    "obtain = (chemistry + islamiat + urdu)\n",
    "percent = (obtain)*100/300\n",
    "\n",
    "if percent <200 and percent < 300:\n",
    "    grade = \"A1\"\n",
    "elif percent <150 and percent < 300:\n",
    "    grade = \"B\"\n",
    "elif percent <100 and percent < 300:\n",
    "    grade = \"C\"\n",
    "elif percent <70 and percent < 300:\n",
    "    grade = \"E\"\n",
    "else:\n",
    "    grade = \"invalid grade\"\n",
    "\n",
    "print(f\"\\t your total numbers is {obtain}\\n your percent is {percent} your grade is {grade}\")\n",
    "\n",
    "\n"
   ]
  },
  {
   "cell_type": "code",
   "execution_count": null,
   "id": "75886815-00d6-488f-8705-75a4e290cdad",
   "metadata": {},
   "outputs": [],
   "source": []
  }
 ],
 "metadata": {
  "kernelspec": {
   "display_name": "Python 3 (ipykernel)",
   "language": "python",
   "name": "python3"
  },
  "language_info": {
   "codemirror_mode": {
    "name": "ipython",
    "version": 3
   },
   "file_extension": ".py",
   "mimetype": "text/x-python",
   "name": "python",
   "nbconvert_exporter": "python",
   "pygments_lexer": "ipython3",
   "version": "3.12.4"
  }
 },
 "nbformat": 4,
 "nbformat_minor": 5
}
